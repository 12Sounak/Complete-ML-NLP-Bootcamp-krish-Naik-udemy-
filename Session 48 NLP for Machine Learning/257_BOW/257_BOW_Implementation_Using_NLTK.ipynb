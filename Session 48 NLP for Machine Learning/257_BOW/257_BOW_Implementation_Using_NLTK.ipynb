{
 "cells": [
  {
   "cell_type": "code",
   "execution_count": 3,
   "metadata": {},
   "outputs": [
    {
     "ename": "SyntaxError",
     "evalue": "(unicode error) 'unicodeescape' codec can't decode bytes in position 2-3: truncated \\UXXXXXXXX escape (2932556880.py, line 2)",
     "output_type": "error",
     "traceback": [
      "\u001b[1;36m  Cell \u001b[1;32mIn[3], line 2\u001b[1;36m\u001b[0m\n\u001b[1;33m    messages = pd.read_csv(\"C:\\Users\\Ghost\\Desktop\\Data Science\\Complete Machine Learning udemy (krish naik)\\Session 44 NLP for Machine Learning\\257_BOW\\SMSSpamCollection\",sep=\"\\t\",names=[\"label\",\"message\"])\u001b[0m\n\u001b[1;37m                                                                                                                                                                           ^\u001b[0m\n\u001b[1;31mSyntaxError\u001b[0m\u001b[1;31m:\u001b[0m (unicode error) 'unicodeescape' codec can't decode bytes in position 2-3: truncated \\UXXXXXXXX escape\n"
     ]
    }
   ],
   "source": [
    "import pandas as pd\n",
    "messages = pd.read_csv(r\"C:\\Users\\Ghost\\Desktop\\Data Science\\Complete Machine Learning udemy (krish naik)\\Session 44 NLP for Machine Learning\\257_BOW\\SMSSpamCollection\",sep=\"\\t\",names=[\"label\",\"message\"])"
   ]
  },
  {
   "cell_type": "code",
   "execution_count": null,
   "metadata": {},
   "outputs": [],
   "source": []
  }
 ],
 "metadata": {
  "kernelspec": {
   "display_name": "myenv",
   "language": "python",
   "name": "python3"
  },
  "language_info": {
   "codemirror_mode": {
    "name": "ipython",
    "version": 3
   },
   "file_extension": ".py",
   "mimetype": "text/x-python",
   "name": "python",
   "nbconvert_exporter": "python",
   "pygments_lexer": "ipython3",
   "version": "3.11.7"
  }
 },
 "nbformat": 4,
 "nbformat_minor": 2
}
