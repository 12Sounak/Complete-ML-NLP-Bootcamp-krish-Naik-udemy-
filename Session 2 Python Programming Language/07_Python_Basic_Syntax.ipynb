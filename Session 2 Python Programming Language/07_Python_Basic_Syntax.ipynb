{
 "cells": [
  {
   "cell_type": "markdown",
   "metadata": {},
   "source": [
    "## Syntax And Semantics in Python\n",
    "\n",
    "Video Outline:\n",
    "\n",
    "<li>Single Line Comments and Multiline comments\n",
    "<li>Defination of Syntax and semantics\n",
    "<li>Basic Syntax Rules in Python\n",
    "<li>Understanding Semantics in Python\n",
    "<li>Common Syntax Errors and How to Avoid Them\n",
    "<li>Practical Code Examples\n",
    "<br>\n",
    "<br>\n",
    "\n",
    "Syntax refers to the set of rules that defines the combinations of symbols that are considered to be correctly structured programs in a language. In simpler terms, Syntax is about the correct arrangements of words and symbols in a code. \n",
    "<br>\n",
    "\n",
    "Semantics refers to the meaning or the interpretation of the symbols, characters and commands in a language. It is about what the code is supposed to do when it runs."
   ]
  },
  {
   "cell_type": "code",
   "execution_count": null,
   "metadata": {},
   "outputs": [],
   "source": [
    "# single line comment \n",
    "'''\n",
    "multi\n",
    "line\n",
    "comment\n",
    "'''"
   ]
  },
  {
   "cell_type": "code",
   "execution_count": 1,
   "metadata": {},
   "outputs": [],
   "source": [
    "# Basic Syntax rules in python\n",
    "# case sensitivity - python is case sensitive."
   ]
  },
  {
   "cell_type": "code",
   "execution_count": 3,
   "metadata": {},
   "outputs": [
    {
     "name": "stdout",
     "output_type": "stream",
     "text": [
      "Sounak\n",
      "Banerjee\n"
     ]
    }
   ],
   "source": [
    "name = \"Sounak\"\n",
    "Name = \"Banerjee\"\n",
    "\n",
    "print(name)\n",
    "print(Name)\n",
    "# Both this names are different identifier coz python is case sensitive i.e name and Name is different"
   ]
  },
  {
   "cell_type": "markdown",
   "metadata": {},
   "source": [
    "## Indentation\n",
    "Indentation in Python is used to define the structure and hierarchy of code. Unlike many other programming languages that use braces {} tp delimit block of code, Python uses indentation to determine the grouping of statements. This means that all the statement within a block must be indented at the same level.\n"
   ]
  },
  {
   "cell_type": "code",
   "execution_count": 5,
   "metadata": {},
   "outputs": [
    {
     "name": "stdout",
     "output_type": "stream",
     "text": [
      "32\n",
      "32\n"
     ]
    }
   ],
   "source": [
    "# indentation \n",
    "# python used indentation to define block of code. Consistant use of space (commonly 4) or tab is required\n",
    "\n",
    "age = 32\n",
    "if age>30:\n",
    "    print(age)\n",
    "\n",
    "print(age)"
   ]
  },
  {
   "cell_type": "code",
   "execution_count": 7,
   "metadata": {},
   "outputs": [
    {
     "name": "stdout",
     "output_type": "stream",
     "text": [
      "36\n"
     ]
    }
   ],
   "source": [
    "# line continuation\n",
    "# Use a backslash (\\) to continue a statement to the next line\n",
    "\n",
    "total = 1+2+3+4+5+6+7+\\\n",
    "4+1+3\n",
    "\n",
    "print(total)"
   ]
  },
  {
   "cell_type": "code",
   "execution_count": 8,
   "metadata": {},
   "outputs": [
    {
     "name": "stdout",
     "output_type": "stream",
     "text": [
      "15\n"
     ]
    }
   ],
   "source": [
    "# Multiple statement on a single line\n",
    "x=5;y=10;z=x+y \n",
    "print(z)"
   ]
  },
  {
   "cell_type": "code",
   "execution_count": 9,
   "metadata": {},
   "outputs": [],
   "source": [
    "#understanding Semantics in Python \n",
    "# variable assignment\n",
    "age = 32 #age is an interger\n",
    "name = \"Sounak\" #name is a string"
   ]
  },
  {
   "cell_type": "code",
   "execution_count": 10,
   "metadata": {},
   "outputs": [
    {
     "data": {
      "text/plain": [
       "int"
      ]
     },
     "execution_count": 10,
     "metadata": {},
     "output_type": "execute_result"
    }
   ],
   "source": [
    "type(age)"
   ]
  },
  {
   "cell_type": "code",
   "execution_count": 11,
   "metadata": {},
   "outputs": [
    {
     "data": {
      "text/plain": [
       "str"
      ]
     },
     "execution_count": 11,
     "metadata": {},
     "output_type": "execute_result"
    }
   ],
   "source": [
    "type(name)"
   ]
  },
  {
   "cell_type": "code",
   "execution_count": 12,
   "metadata": {},
   "outputs": [
    {
     "name": "stdout",
     "output_type": "stream",
     "text": [
      "<class 'int'>\n",
      "<class 'str'>\n"
     ]
    }
   ],
   "source": [
    "# Type Inference \n",
    "variable = 10\n",
    "print(type(variable))\n",
    "variable = \"Sounak\"\n",
    "print(type(variable))"
   ]
  },
  {
   "cell_type": "code",
   "execution_count": null,
   "metadata": {},
   "outputs": [],
   "source": [
    "#code example of Indentation \n",
    "if True:\n",
    "    print(\"Correct Indentation\")\n",
    "    if False:\n",
    "        print(\"This won't print\")\n",
    "    print(\"This will print\")\n",
    "print(\"Outside the if block\")"
   ]
  }
 ],
 "metadata": {
  "kernelspec": {
   "display_name": "Python 3",
   "language": "python",
   "name": "python3"
  },
  "language_info": {
   "codemirror_mode": {
    "name": "ipython",
    "version": 3
   },
   "file_extension": ".py",
   "mimetype": "text/x-python",
   "name": "python",
   "nbconvert_exporter": "python",
   "pygments_lexer": "ipython3",
   "version": "3.12.0"
  }
 },
 "nbformat": 4,
 "nbformat_minor": 2
}
